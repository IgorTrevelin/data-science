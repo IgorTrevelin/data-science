{
 "cells": [
  {
   "cell_type": "code",
   "execution_count": 1,
   "metadata": {},
   "outputs": [
    {
     "name": "stderr",
     "output_type": "stream",
     "text": [
      "2023-03-29 12:59:33.925652: I tensorflow/core/platform/cpu_feature_guard.cc:193] This TensorFlow binary is optimized with oneAPI Deep Neural Network Library (oneDNN) to use the following CPU instructions in performance-critical operations:  SSE4.1 SSE4.2 AVX AVX2 FMA\n",
      "To enable them in other operations, rebuild TensorFlow with the appropriate compiler flags.\n"
     ]
    }
   ],
   "source": [
    "import numpy as np\n",
    "import tensorflow as tf\n",
    "import matplotlib.pyplot as plt\n",
    "from PIL import Image\n",
    "import glob\n",
    "\n",
    "import warnings\n",
    "warnings.filterwarnings(\"ignore\")\n",
    "\n",
    "%matplotlib inline"
   ]
  },
  {
   "cell_type": "code",
   "execution_count": null,
   "metadata": {},
   "outputs": [],
   "source": [
    "def load_data(set_type):\n",
    "    if not set_type in [\"train\", \"test\", \"val\"]:\n",
    "        raise ValueError(\"Invalid value for parameter set_type\")\n",
    "\n",
    "    X, y = [], []\n",
    "\n",
    "    image_count = 0\n",
    "    for i, condition in enumerate([\"NORMAL\", \"PNEUMONIA\"]):\n",
    "        files = glob.glob(f\"chest_xray/{set_type}/{condition}/*.jpeg\")\n",
    "        image_count += len(files)\n",
    "\n",
    "        for file in files:\n",
    "            image = Image.open(file).resize((256, 256))\n",
    "            image = np.asarray(image, dtype=\"float32\") / 255.0\n",
    "            X.extend(image.flatten().tolist())\n",
    "            y.append(i)\n",
    "\n",
    "    return np.array(X, dtype=\"float32\").reshape(image_count, 256, 256), np.array(y)\n",
    "\n",
    "X_train, y_train = load_data(\"train\")\n",
    "print(X_train.shape)\n",
    "print(y_train.shape)"
   ]
  }
 ],
 "metadata": {
  "kernelspec": {
   "display_name": "deep",
   "language": "python",
   "name": "python3"
  },
  "language_info": {
   "codemirror_mode": {
    "name": "ipython",
    "version": 3
   },
   "file_extension": ".py",
   "mimetype": "text/x-python",
   "name": "python",
   "nbconvert_exporter": "python",
   "pygments_lexer": "ipython3",
   "version": "3.10.10"
  },
  "orig_nbformat": 4
 },
 "nbformat": 4,
 "nbformat_minor": 2
}
